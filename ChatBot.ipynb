{
 "cells": [
  {
   "cell_type": "code",
   "execution_count": 1,
   "metadata": {},
   "outputs": [],
   "source": [
    "from nltk.chat.util import Chat, reflections"
   ]
  },
  {
   "cell_type": "code",
   "execution_count": 2,
   "metadata": {},
   "outputs": [],
   "source": [
    "pairs = [\n",
    "    ['Hello|Hi', ['Hi, what is your name?']],\n",
    "    ['my name is (.*)', ['Hello %1, my name is sports bot. Do you play any sports']],\n",
    "    ['(.*) play (.*)', ['Thats so cool! I used to play %2 as well. Do you watch %2?']],\n",
    "    ['yes, i watch (.*)', ['Who is your favourite player?']],\n",
    "    ['No, i do not watch (.*)', ['Really? What sport do you watch']],\n",
    "    ['i watch (.*)', ['Who is your favourite player?']],\n",
    "    ['my favourite player is (.*)', ['%1? I have never heard of him, how many points a game do they score?']],\n",
    "    ['(.*) scores (.*)', ['Thats not too bad but I bet I could beat him 1 on 1']],\n",
    "    ['No you could not', ['Yes I could, how many points can you score in your sport?']],\n",
    "    ['Yes you could', ['I know, how many points can you score in your sport?']],\n",
    "    ['I can score (.*)', ['You can score (.*)? How old are you?']],\n",
    "    ['i am (.*) years old', ['I guess thats not bad for a %1 year old. Is there anything you want to ask me regarding sports?']],\n",
    "    ['(.*) favourite sport?', ['Hockey, anything else?']],\n",
    "    ['(.*) old are you?', ['I am a bot I do not age']],\n",
    "    ['(.*) favourite player?', ['Loui Erikkson of the Vancouver Canucks, he definitely deserves his $36 million contract']]\n",
    "]"
   ]
  },
  {
   "cell_type": "code",
   "execution_count": null,
   "metadata": {},
   "outputs": [
    {
     "name": "stdout",
     "output_type": "stream",
     "text": [
      ">HI\n",
      "Hi, what is your name?\n",
      ">My name is Hassan\n",
      "Hello hassan, my name is sports bot. Do you play any sports\n",
      ">Yes, i play baskeketball\n",
      "Thats so cool! I used to play baskeketball as well. Do you watch baskeketball?\n",
      ">No, i do not watch basketball\n",
      "Really? What sport do you watch\n",
      ">I watch hockey\n",
      "Who is your favourite player?\n",
      ">patty kane\n",
      "None\n",
      ">my favourite player is patty kane\n",
      "patty kane? I have never heard of him, how many points a game do they score?\n",
      ">he scores 3 goals a game\n",
      "Thats not too bad but I bet I could beat him 1 on 1\n",
      ">Yes you could\n",
      "None\n",
      ">fds\n",
      "None\n",
      ">sdf\n",
      "None\n",
      ">sdf\n",
      "None\n",
      ">ds\n",
      "None\n",
      ">fds\n",
      "None\n",
      ">fds\n",
      "None\n"
     ]
    }
   ],
   "source": [
    "chat = Chat(pairs, reflections)\n",
    "chat.converse()"
   ]
  },
  {
   "cell_type": "code",
   "execution_count": null,
   "metadata": {},
   "outputs": [],
   "source": []
  },
  {
   "cell_type": "code",
   "execution_count": null,
   "metadata": {},
   "outputs": [],
   "source": []
  }
 ],
 "metadata": {
  "kernelspec": {
   "display_name": "Python 3",
   "language": "python",
   "name": "python3"
  },
  "language_info": {
   "codemirror_mode": {
    "name": "ipython",
    "version": 3
   },
   "file_extension": ".py",
   "mimetype": "text/x-python",
   "name": "python",
   "nbconvert_exporter": "python",
   "pygments_lexer": "ipython3",
   "version": "3.7.6"
  }
 },
 "nbformat": 4,
 "nbformat_minor": 4
}
