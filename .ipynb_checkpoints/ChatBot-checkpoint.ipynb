{
 "cells": [
  {
   "cell_type": "code",
   "execution_count": 2,
   "metadata": {},
   "outputs": [],
   "source": [
    "import nltk"
   ]
  },
  {
   "cell_type": "code",
   "execution_count": 3,
   "metadata": {},
   "outputs": [],
   "source": [
    "from nltk.chat.util import Chat, reflections"
   ]
  },
  {
   "cell_type": "code",
   "execution_count": 4,
   "metadata": {},
   "outputs": [],
   "source": [
    "pairs = [\n",
    "    ['Hello|Hi', ['Hi, what is your name?']],\n",
    "    ['my name is (.*)', ['Hello %1, my name is sports bot. Do you play any sports']],\n",
    "    ['(.*) play (.*)', ['Thats so cool! I used to play %2 as well. Do you watch %2?']],\n",
    "    ['yes, i watch (.*)', ['Who is your favourite player?']],\n",
    "    ['No, i do not watch (.*)', ['Really? What sport do you watch']],\n",
    "    ['i watch (.*)', ['Who is your favourite player?']],\n",
    "    ['my favourite player is (.*)', ['%1? I have never heard of him, how many points a game do they score?']],\n",
    "    ['(.*) scores (.*)', ['Thats not too bad but I bet I could beat him 1 on 1']],\n",
    "    ['No you could not', ['Yes I could, how many points can you score in your sport?']],\n",
    "    ['Yes you could', ['I know, how many points can you score in your sport?']],\n",
    "    ['I can score (.*)', ['You can score %1? How old are you?']],\n",
    "    ['i am (.*) years old', ['I guess thats not bad for a %1 year old. Is there anything you want to ask me regarding sports?']],\n",
    "    ['(.*) favourite sport?', ['Hockey, anything else?']],\n",
    "    ['(.*) old are you?', ['I am a bot I do not age']],\n",
    "    ['(.*) favourite player?', ['Loui Erikkson of the Vancouver Canucks, he definitely deserves his $36 million contract']],\n",
    "    ['(.*) to a game?', ['No, I am a bot. I am unable to be physically anywhere.']],\n",
    "    ['(.*) Stanley Cup this year?', ['Any team but Vancouver']],\n",
    "    ['(.*) watch the game last night?', ['I did not watch it, but all the stats automatically uploaded to my personal hard drive']],\n",
    "    ['(.*) next summer olympics?', ['This summer in Tokyo']],\n",
    "    ['(.*) next winter olympics?', ['2022 in Beijing']],\n",
    "    ['(.*) most gold medals?', ['Michael Phelps with 23.']]\n",
    "]"
   ]
  },
  {
   "cell_type": "code",
   "execution_count": null,
   "metadata": {},
   "outputs": [],
   "source": [
    "chatbot = Chat(pairs, reflections)\n",
    "chatbot.converse()"
   ]
  },
  {
   "cell_type": "code",
   "execution_count": 5,
   "metadata": {},
   "outputs": [],
   "source": [
    "%run ChatBot.py"
   ]
  },
  {
   "cell_type": "code",
   "execution_count": null,
   "metadata": {},
   "outputs": [],
   "source": []
  }
 ],
 "metadata": {
  "kernelspec": {
   "display_name": "Python 3",
   "language": "python",
   "name": "python3"
  },
  "language_info": {
   "codemirror_mode": {
    "name": "ipython",
    "version": 3
   },
   "file_extension": ".py",
   "mimetype": "text/x-python",
   "name": "python",
   "nbconvert_exporter": "python",
   "pygments_lexer": "ipython3",
   "version": "3.8.5"
  }
 },
 "nbformat": 4,
 "nbformat_minor": 4
}
